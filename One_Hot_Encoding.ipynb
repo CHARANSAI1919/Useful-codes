{
 "cells": [
  {
   "cell_type": "code",
   "execution_count": 2,
   "id": "3d3de7ef",
   "metadata": {},
   "outputs": [
    {
     "name": "stdout",
     "output_type": "stream",
     "text": [
      "Original Data:\n",
      "  Category\n",
      "0        A\n",
      "1        B\n",
      "2        C\n",
      "3        A\n",
      "4        C\n",
      "5        B\n",
      "6        A\n",
      "\n",
      "One-Hot Encoded Data:\n",
      "  Category  Category_A  Category_B  Category_C\n",
      "0        A        True       False       False\n",
      "1        B       False        True       False\n",
      "2        C       False       False        True\n",
      "3        A        True       False       False\n",
      "4        C       False       False        True\n",
      "5        B       False        True       False\n",
      "6        A        True       False       False\n"
     ]
    }
   ],
   "source": [
    "import pandas as pd\n",
    "\n",
    "\n",
    "data = {\n",
    "    'Category': ['A', 'B', 'C', 'A', 'C', 'B', 'A']\n",
    "}\n",
    "df = pd.DataFrame(data)\n",
    "\n",
    "\n",
    "one_hot_encoded = pd.get_dummies(df['Category'], prefix='Category')\n",
    "\n",
    "\n",
    "df_encoded = pd.concat([df, one_hot_encoded], axis=1)\n",
    "\n",
    "print(\"Original Data:\")\n",
    "print(df)\n",
    "\n",
    "print(\"\\nOne-Hot Encoded Data:\")\n",
    "print(df_encoded)\n"
   ]
  },
  {
   "cell_type": "code",
   "execution_count": null,
   "id": "f083f90a",
   "metadata": {},
   "outputs": [],
   "source": []
  }
 ],
 "metadata": {
  "kernelspec": {
   "display_name": "Python [conda env:base] *",
   "language": "python",
   "name": "conda-base-py"
  },
  "language_info": {
   "codemirror_mode": {
    "name": "ipython",
    "version": 3
   },
   "file_extension": ".py",
   "mimetype": "text/x-python",
   "name": "python",
   "nbconvert_exporter": "python",
   "pygments_lexer": "ipython3",
   "version": "3.12.7"
  }
 },
 "nbformat": 4,
 "nbformat_minor": 5
}
