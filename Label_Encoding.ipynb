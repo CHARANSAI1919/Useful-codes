{
 "cells": [
  {
   "cell_type": "code",
   "execution_count": 1,
   "id": "dbf6e53d",
   "metadata": {},
   "outputs": [
    {
     "name": "stdout",
     "output_type": "stream",
     "text": [
      "Original Data:\n",
      "  Category\n",
      "0        A\n",
      "1        B\n",
      "2        C\n",
      "3        A\n",
      "4        C\n",
      "5        B\n",
      "6        A\n",
      "\n",
      "Label Encoded Data:\n",
      "   Category_LabelEncoded\n",
      "0                      0\n",
      "1                      1\n",
      "2                      2\n",
      "3                      0\n",
      "4                      2\n",
      "5                      1\n",
      "6                      0\n"
     ]
    }
   ],
   "source": [
    "from sklearn.preprocessing import LabelEncoder\n",
    "import pandas as pd\n",
    "\n",
    "\n",
    "data = {\n",
    "    'Category': ['A', 'B', 'C', 'A', 'C', 'B', 'A']\n",
    "}\n",
    "df = pd.DataFrame(data)\n",
    "\n",
    "\n",
    "label_encoder = LabelEncoder()\n",
    "df['Category_LabelEncoded'] = label_encoder.fit_transform(df['Category'])\n",
    "\n",
    "print(\"Original Data:\")\n",
    "print(df[['Category']])\n",
    "\n",
    "print(\"\\nLabel Encoded Data:\")\n",
    "print(df[['Category_LabelEncoded']])\n"
   ]
  },
  {
   "cell_type": "code",
   "execution_count": null,
   "id": "cb30cd45",
   "metadata": {},
   "outputs": [],
   "source": []
  }
 ],
 "metadata": {
  "kernelspec": {
   "display_name": "Python 3",
   "language": "python",
   "name": "python3"
  },
  "language_info": {
   "codemirror_mode": {
    "name": "ipython",
    "version": 3
   },
   "file_extension": ".py",
   "mimetype": "text/x-python",
   "name": "python",
   "nbconvert_exporter": "python",
   "pygments_lexer": "ipython3",
   "version": "3.13.1"
  }
 },
 "nbformat": 4,
 "nbformat_minor": 5
}
