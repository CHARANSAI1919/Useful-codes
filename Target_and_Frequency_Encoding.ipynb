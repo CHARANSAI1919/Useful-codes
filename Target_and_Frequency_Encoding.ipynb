{
 "cells": [
  {
   "cell_type": "code",
   "execution_count": 1,
   "id": "43c00c03",
   "metadata": {},
   "outputs": [
    {
     "name": "stdout",
     "output_type": "stream",
     "text": [
      "Training Data:\n",
      "   Category  Target  Target_Enc  Freq_Enc\n",
      "1        B       0    0.333333     0.375\n",
      "7        B       1    0.333333     0.375\n",
      "3        A       0    0.666667     0.375\n",
      "0        A       1    0.666667     0.375\n",
      "5        A       1    0.666667     0.375\n",
      "4        B       0    0.333333     0.375\n",
      "Test Data:\n",
      "   Category  Target  Target_Enc  Freq_Enc\n",
      "6        C       0         0.5      0.25\n",
      "2        C       1         0.5      0.25\n"
     ]
    }
   ],
   "source": [
    "import pandas as pd\n",
    "from sklearn.model_selection import train_test_split\n",
    "\n",
    "\n",
    "data = pd.DataFrame({\n",
    "    'Category': ['A', 'B', 'C', 'A', 'B', 'A', 'C', 'B'], \n",
    "    'Target': [1, 0, 1, 0, 0, 1, 0, 1]  \n",
    "})\n",
    "\n",
    "\n",
    "target_mean = data.groupby(['Category'])['Target'].mean()\n",
    "data['Target_Enc'] = data['Category'].map(target_mean)\n",
    "\n",
    "\n",
    "frequency_map = data['Category'].value_counts(normalize=True)\n",
    "data['Freq_Enc'] = data['Category'].map(frequency_map)\n",
    "\n",
    "\n",
    "train_df, test_df = train_test_split(data, test_size=0.2, random_state=0)\n",
    "\n",
    "print(\"Training Data:\\n\", train_df)\n",
    "print(\"Test Data:\\n\", test_df)"
   ]
  },
  {
   "cell_type": "code",
   "execution_count": null,
   "id": "2cb0c891",
   "metadata": {},
   "outputs": [],
   "source": []
  }
 ],
 "metadata": {
  "kernelspec": {
   "display_name": "Python 3",
   "language": "python",
   "name": "python3"
  },
  "language_info": {
   "codemirror_mode": {
    "name": "ipython",
    "version": 3
   },
   "file_extension": ".py",
   "mimetype": "text/x-python",
   "name": "python",
   "nbconvert_exporter": "python",
   "pygments_lexer": "ipython3",
   "version": "3.13.1"
  }
 },
 "nbformat": 4,
 "nbformat_minor": 5
}
