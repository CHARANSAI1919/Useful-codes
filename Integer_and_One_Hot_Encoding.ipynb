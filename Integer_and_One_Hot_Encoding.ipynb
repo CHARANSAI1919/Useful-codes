{
 "cells": [
  {
   "cell_type": "code",
   "execution_count": 1,
   "id": "a9f4436b",
   "metadata": {},
   "outputs": [
    {
     "name": "stdout",
     "output_type": "stream",
     "text": [
      "Original categories: ['red', 'green', 'blue', 'yellow', 'green']\n",
      "Integer-encoded categories: [2 1 0 3 1]\n"
     ]
    }
   ],
   "source": [
    "from sklearn.preprocessing import LabelEncoder\n",
    "# Sample data\n",
    "categories = ['red', 'green', 'blue', 'yellow', 'green']\n",
    "# Initialize LabelEncoder\n",
    "label_encoder = LabelEncoder()\n",
    "# Fit and transform the data\n",
    "integer_encoded = label_encoder.fit_transform(categories)\n",
    "print(\"Original categories:\", categories)\n",
    "print(\"Integer-encoded categories:\", integer_encoded)\n"
   ]
  },
  {
   "cell_type": "code",
   "execution_count": 2,
   "id": "997f9d57",
   "metadata": {},
   "outputs": [
    {
     "name": "stdout",
     "output_type": "stream",
     "text": [
      "Original categories: ['red', 'green', 'blue', 'yellow', 'green']\n",
      "One-hot encoded categories:\n",
      "    color_blue  color_green  color_red  color_yellow\n",
      "0       False        False       True         False\n",
      "1       False         True      False         False\n",
      "2        True        False      False         False\n",
      "3       False        False      False          True\n",
      "4       False         True      False         False\n"
     ]
    }
   ],
   "source": [
    "import pandas as pd\n",
    "# Sample data\n",
    "categories = ['red', 'green', 'blue', 'yellow', 'green']\n",
    "# Using pandas get_dummies for one-hot encoding\n",
    "one_hot_encoded = pd.get_dummies(categories, prefix='color')\n",
    "print(\"Original categories:\", categories)\n",
    "print(\"One-hot encoded categories:\\n\", one_hot_encoded)\n"
   ]
  },
  {
   "cell_type": "code",
   "execution_count": null,
   "id": "e5c74663",
   "metadata": {},
   "outputs": [],
   "source": []
  }
 ],
 "metadata": {
  "kernelspec": {
   "display_name": "Python 3",
   "language": "python",
   "name": "python3"
  },
  "language_info": {
   "codemirror_mode": {
    "name": "ipython",
    "version": 3
   },
   "file_extension": ".py",
   "mimetype": "text/x-python",
   "name": "python",
   "nbconvert_exporter": "python",
   "pygments_lexer": "ipython3",
   "version": "3.13.1"
  }
 },
 "nbformat": 4,
 "nbformat_minor": 5
}
